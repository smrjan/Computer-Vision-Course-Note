{
 "cells": [
  {
   "cell_type": "markdown",
   "metadata": {},
   "source": [
    "# Lecture 7-Knowing a Good Feature, Feature Matching, and Recognition\n",
    "*************************************************"
   ]
  },
  {
   "cell_type": "markdown",
   "metadata": {},
   "source": [
    "## Outline\n",
    "\n",
    "- ** What is good feature? **\n",
    "- ** Image Value Analysis **\n",
    "  - ** Haralick **\n",
    "- ** Line Detection **\n",
    "  - ** Hough Transform **\n",
    "  \n",
    "### Computer Vision Applications\n",
    "\n",
    "![7.1](https://raw.githubusercontent.com/LoserSun/Computer-Vision-Course-Note/master/relevant%20materials/picture/7.1.JPG)\n",
    "\n",
    "### Local Features\n",
    "\n",
    "![7.2](https://raw.githubusercontent.com/LoserSun/Computer-Vision-Course-Note/master/relevant%20materials/picture/7.2.JPG)\n"
   ]
  },
  {
   "cell_type": "markdown",
   "metadata": {},
   "source": [
    "## Image Value Analysis in Recognition\n",
    "\n",
    "![7.3](https://raw.githubusercontent.com/LoserSun/Computer-Vision-Course-Note/master/relevant%20materials/picture/7.3.JPG)\n",
    "\n"
   ]
  },
  {
   "cell_type": "markdown",
   "metadata": {},
   "source": [
    "## [Co-occurrence Matrix](http://www.fp.ucalgary.ca/mhallbey/the_glcm.htm)\n",
    "\n",
    "** 关于 Co-occurrence Matrix 详情见链接 <http://www.fp.ucalgary.ca/mhallbey/the_glcm.htm>  **\n",
    "\n"
   ]
  },
  {
   "cell_type": "markdown",
   "metadata": {},
   "source": [
    "## [Hough Transform](https://alyssaq.github.io/2014/understanding-hough-transform/)\n",
    "\n",
    "** 关于 Hough Transform 详情见链接 <https://alyssaq.github.io/2014/understanding-hough-transform/> **\n",
    "\n",
    "![7.4](https://raw.githubusercontent.com/LoserSun/Computer-Vision-Course-Note/master/relevant%20materials/picture/7.4.JPG)"
   ]
  }
 ],
 "metadata": {
  "anaconda-cloud": {},
  "kernelspec": {
   "display_name": "Python [conda root]",
   "language": "python",
   "name": "conda-root-py"
  },
  "language_info": {
   "codemirror_mode": {
    "name": "ipython",
    "version": 3
   },
   "file_extension": ".py",
   "mimetype": "text/x-python",
   "name": "python",
   "nbconvert_exporter": "python",
   "pygments_lexer": "ipython3",
   "version": "3.5.2"
  },
  "latex_envs": {
   "LaTeX_envs_menu_present": true,
   "bibliofile": "biblio.bib",
   "cite_by": "apalike",
   "current_citInitial": 1,
   "eqLabelWithNumbers": true,
   "eqNumInitial": 1,
   "hotkeys": {
    "equation": "Ctrl-E",
    "itemize": "Ctrl-I"
   },
   "labels_anchors": false,
   "latex_user_defs": false,
   "report_style_numbering": false,
   "user_envs_cfg": false
  },
  "toc": {
   "colors": {
    "hover_highlight": "#DAA520",
    "running_highlight": "#FF0000",
    "selected_highlight": "#FFD700"
   },
   "moveMenuLeft": true,
   "nav_menu": {
    "height": "47px",
    "width": "252px"
   },
   "navigate_menu": true,
   "number_sections": true,
   "sideBar": true,
   "threshold": 4,
   "toc_cell": false,
   "toc_section_display": "block",
   "toc_window_display": false
  }
 },
 "nbformat": 4,
 "nbformat_minor": 1
}
