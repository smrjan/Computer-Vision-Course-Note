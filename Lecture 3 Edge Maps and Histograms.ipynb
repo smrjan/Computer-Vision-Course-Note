{
 "cells": [
  {
   "cell_type": "markdown",
   "metadata": {},
   "source": [
    "# Lecture 3 Edge Maps and Histograms"
   ]
  },
  {
   "cell_type": "markdown",
   "metadata": {},
   "source": [
    "## Outline\n",
    " - ** Continue edge detection and filtering methods **\n",
    " - ** Histogram-based analysis **"
   ]
  },
  {
   "cell_type": "markdown",
   "metadata": {},
   "source": [
    "## Median Filtering\n",
    "\n",
    "![3.1](https://raw.githubusercontent.com/LoserSun/Computer-Vision-Course-Note/master/relevant%20materials/picture/3.1.JPG)\n"
   ]
  },
  {
   "cell_type": "markdown",
   "metadata": {},
   "source": [
    "## Evaluate Edge Detection\n",
    "\n",
    "![3.2](https://raw.githubusercontent.com/LoserSun/Computer-Vision-Course-Note/master/relevant%20materials/picture/3.2.JPG)\n"
   ]
  },
  {
   "cell_type": "markdown",
   "metadata": {},
   "source": [
    "## Non-maximum suppression\n",
    "\n",
    "![3.3](https://raw.githubusercontent.com/LoserSun/Computer-Vision-Course-Note/master/relevant%20materials/picture/3.3.JPG)\n",
    "\n",
    "![3.4](https://raw.githubusercontent.com/LoserSun/Computer-Vision-Course-Note/master/relevant%20materials/picture/3.4.JPG)\n",
    "\n",
    "![3.5](https://raw.githubusercontent.com/LoserSun/Computer-Vision-Course-Note/master/relevant%20materials/picture/3.5.JPG)\n"
   ]
  },
  {
   "cell_type": "markdown",
   "metadata": {},
   "source": [
    "## Hysteresis Thresholding\n",
    "\n",
    "![3.6](https://raw.githubusercontent.com/LoserSun/Computer-Vision-Course-Note/master/relevant%20materials/picture/3.6.JPG)\n",
    "\n",
    "![3.7](https://raw.githubusercontent.com/LoserSun/Computer-Vision-Course-Note/master/relevant%20materials/picture/3.7.JPG)\n"
   ]
  },
  {
   "cell_type": "markdown",
   "metadata": {},
   "source": [
    "## Image Histogram\n",
    "\n",
    "![3.8](https://raw.githubusercontent.com/LoserSun/Computer-Vision-Course-Note/master/relevant%20materials/picture/3.8.JPG)\n",
    "\n",
    "![3.9](https://raw.githubusercontent.com/LoserSun/Computer-Vision-Course-Note/master/relevant%20materials/picture/3.9.JPG)\n",
    "\n",
    "![3.10](https://raw.githubusercontent.com/LoserSun/Computer-Vision-Course-Note/master/relevant%20materials/picture/3.10.JPG)\n"
   ]
  },
  {
   "cell_type": "markdown",
   "metadata": {},
   "source": [
    "## Histogram Equalization\n",
    "\n",
    "![3.11](https://raw.githubusercontent.com/LoserSun/Computer-Vision-Course-Note/master/relevant%20materials/picture/3.11.JPG)\n",
    "\n",
    "![3.12](https://raw.githubusercontent.com/LoserSun/Computer-Vision-Course-Note/master/relevant%20materials/picture/3.12.JPG)\n",
    "\n",
    "![3.13](https://raw.githubusercontent.com/LoserSun/Computer-Vision-Course-Note/master/relevant%20materials/picture/3.13.JPG)\n",
    "\n",
    "![3.14](https://raw.githubusercontent.com/LoserSun/Computer-Vision-Course-Note/master/relevant%20materials/picture/3.14.JPG)\n"
   ]
  }
 ],
 "metadata": {
  "anaconda-cloud": {},
  "kernelspec": {
   "display_name": "Python [conda root]",
   "language": "python",
   "name": "conda-root-py"
  },
  "language_info": {
   "codemirror_mode": {
    "name": "ipython",
    "version": 3
   },
   "file_extension": ".py",
   "mimetype": "text/x-python",
   "name": "python",
   "nbconvert_exporter": "python",
   "pygments_lexer": "ipython3",
   "version": "3.5.2"
  },
  "latex_envs": {
   "LaTeX_envs_menu_present": true,
   "bibliofile": "biblio.bib",
   "cite_by": "apalike",
   "current_citInitial": 1,
   "eqLabelWithNumbers": true,
   "eqNumInitial": 1,
   "hotkeys": {
    "equation": "Ctrl-E",
    "itemize": "Ctrl-I"
   },
   "labels_anchors": false,
   "latex_user_defs": false,
   "report_style_numbering": false,
   "user_envs_cfg": false
  },
  "toc": {
   "colors": {
    "hover_highlight": "#DAA520",
    "running_highlight": "#FF0000",
    "selected_highlight": "#FFD700"
   },
   "moveMenuLeft": true,
   "nav_menu": {
    "height": "161px",
    "width": "252px"
   },
   "navigate_menu": true,
   "number_sections": true,
   "sideBar": true,
   "threshold": 4,
   "toc_cell": false,
   "toc_section_display": "block",
   "toc_window_display": false
  }
 },
 "nbformat": 4,
 "nbformat_minor": 1
}
