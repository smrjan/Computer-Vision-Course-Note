{
 "cells": [
  {
   "cell_type": "markdown",
   "metadata": {},
   "source": [
    "\n",
    "# **方法一 ：原始方法**\n",
    "---------\n",
    "\n",
    "\n",
    "**基本思想如图1所示：**\n",
    "\n",
    "![ Figure 1: Harris Corner Detector: Basic Idea](http://img.blog.csdn.net/20161228201906045?watermark/2/text/aHR0cDovL2Jsb2cuY3Nkbi5uZXQvdTAxMTE0NDk0MA==/font/5a6L5L2T/fontsize/400/fill/I0JBQkFCMA==/dissolve/70/gravity/SouthEast)\n",
    "\n",
    "                 Figure 1: Harris Corner Detector: Basic Idea\n",
    "               \n",
    "**这种变化，可以用图2的公式来衡量：**\n",
    "\n",
    "![Figure 2: Harris Detector: Mathematics 1/3](http://img.blog.csdn.net/20161228202213191?watermark/2/text/aHR0cDovL2Jsb2cuY3Nkbi5uZXQvdTAxMTE0NDk0MA==/font/5a6L5L2T/fontsize/400/fill/I0JBQkFCMA==/dissolve/70/gravity/SouthEast)\n",
    "\n",
    "                 Figure 2: Harris Detector: Mathematics 1/3\n",
    "\n",
    "**图2 画红线部分由泰勒级数（Taylor Series）展开，及一阶偏导（First partial derivatives）近似，如图3：**\n",
    "\n",
    "![Figure 3: Harris Detector: Mathematics 2/3](http://img.blog.csdn.net/20161228202525847?watermark/2/text/aHR0cDovL2Jsb2cuY3Nkbi5uZXQvdTAxMTE0NDk0MA==/font/5a6L5L2T/fontsize/400/fill/I0JBQkFCMA==/dissolve/70/gravity/SouthEast)\n",
    "\n",
    "                Figure 3: Harris Detector: Mathematics 2/3\n",
    "\n",
    "**整理得到图4中的公式：**\n",
    "\n",
    "![Figure 4: Harris Detector: Mathematics 3/3](http://img.blog.csdn.net/20161228202631176?watermark/2/text/aHR0cDovL2Jsb2cuY3Nkbi5uZXQvdTAxMTE0NDk0MA==/font/5a6L5L2T/fontsize/400/fill/I0JBQkFCMA==/dissolve/70/gravity/SouthEast)\n",
    "\n",
    "                Figure 4: Harris Detector: Mathematics 3/3\n",
    "\n",
    "**然后，利用M 的特征值（eigenvalues）λ1 和 λ2 来分类图像中的 平坦（flat）、 边缘（edge） 和 角点（corner），如图5：**\n",
    "\n",
    "![Figure 5: Classification via Eigenvalues](http://img.blog.csdn.net/20161228202744871?watermark/2/text/aHR0cDovL2Jsb2cuY3Nkbi5uZXQvdTAxMTE0NDk0MA==/font/5a6L5L2T/fontsize/400/fill/I0JBQkFCMA==/dissolve/70/gravity/SouthEast)\n",
    "\n",
    "                Figure 5: Classification via Eigenvalues\n",
    "\n",
    "# **方法二：椭圆拟合分析**\n",
    "----------\n",
    "\n",
    "\n",
    "**将图像的 梯度向量（dx，dy） 视为一组点集，图像中心定义为（0,0）点。\n",
    "dx，dy 一般可以这样计算：dx(i,j)  = I(i+1,j) - I(i,j)，dy(i,j)  = I(i,j+1) - I(i,j)。\n",
    "然后绘制散点图，如图6所示：**\n",
    "\n",
    "![Figure 6: Plotting Derivatives as 2D Points](http://img.blog.csdn.net/20161228203351350?watermark/2/text/aHR0cDovL2Jsb2cuY3Nkbi5uZXQvdTAxMTE0NDk0MA==/font/5a6L5L2T/fontsize/400/fill/I0JBQkFCMA==/dissolve/70/gravity/SouthEast)\n",
    "\n",
    "                Figure 6: Plotting Derivatives as 2D Points\n",
    "\n",
    "**利用椭圆拟合散点图，根据椭圆的参数（如 长轴、短轴）来判断 平坦（flat）、 边缘（edge） 和 角点（corner），结果如图7所示：**\n",
    "\n",
    "![Figure 7: Fitting Ellipse to each Set of Points](http://img.blog.csdn.net/20161228203509101?watermark/2/text/aHR0cDovL2Jsb2cuY3Nkbi5uZXQvdTAxMTE0NDk0MA==/font/5a6L5L2T/fontsize/400/fill/I0JBQkFCMA==/dissolve/70/gravity/SouthEast)\n",
    "\n",
    "                Figure 7: Fitting Ellipse to each Set of Points\n"
   ]
  }
 ],
 "metadata": {
  "kernelspec": {
   "display_name": "Python [conda root]",
   "language": "python",
   "name": "conda-root-py"
  },
  "language_info": {
   "codemirror_mode": {
    "name": "ipython",
    "version": 3
   },
   "file_extension": ".py",
   "mimetype": "text/x-python",
   "name": "python",
   "nbconvert_exporter": "python",
   "pygments_lexer": "ipython3",
   "version": "3.5.2"
  },
  "latex_envs": {
   "LaTeX_envs_menu_present": true,
   "bibliofile": "biblio.bib",
   "cite_by": "apalike",
   "current_citInitial": 1,
   "eqLabelWithNumbers": true,
   "eqNumInitial": 1,
   "hotkeys": {
    "equation": "Ctrl-E",
    "itemize": "Ctrl-I"
   },
   "labels_anchors": false,
   "latex_user_defs": false,
   "report_style_numbering": false,
   "user_envs_cfg": false
  },
  "toc": {
   "colors": {
    "hover_highlight": "#DAA520",
    "running_highlight": "#FF0000",
    "selected_highlight": "#FFD700"
   },
   "moveMenuLeft": true,
   "nav_menu": {
    "height": "49px",
    "width": "252px"
   },
   "navigate_menu": true,
   "number_sections": true,
   "sideBar": true,
   "threshold": 4,
   "toc_cell": false,
   "toc_section_display": "block",
   "toc_window_display": false
  }
 },
 "nbformat": 4,
 "nbformat_minor": 1
}
