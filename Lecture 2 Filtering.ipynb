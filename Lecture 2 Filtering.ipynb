{
 "cells": [
  {
   "cell_type": "markdown",
   "metadata": {},
   "source": [
    "# Lecture2  Filtering"
   ]
  },
  {
   "cell_type": "markdown",
   "metadata": {},
   "source": [
    "##  ** Outline **\n",
    " - ** Image as a function **\n",
    " - ** Extracting useful information from Images **\n",
    "  - Edges\n",
    "  - Smoothing/Removing noise\n",
    "  - Convolution/Correlation\n",
    "  - Image Derivatives/Gradient\n",
    "  - Histogram\n",
    " - ** Some coding examples **"
   ]
  },
  {
   "cell_type": "markdown",
   "metadata": {},
   "source": [
    "##  ** Correlation and Convolution **\n",
    "\n",
    "\n",
    "![2.1](https://raw.githubusercontent.com/LoserSun/Computer-Vision-Course-Note/master/relevant%20materials/picture/2.1.JPG)\n",
    "\n",
    "![2.2](https://raw.githubusercontent.com/LoserSun/Computer-Vision-Course-Note/master/relevant%20materials/picture/2.2.JPG)\n",
    "\n",
    "![2.3](https://raw.githubusercontent.com/LoserSun/Computer-Vision-Course-Note/master/relevant%20materials/picture/2.3.JPG)\n"
   ]
  },
  {
   "cell_type": "markdown",
   "metadata": {},
   "source": [
    "##  ** [Unsharp masking](https://en.wikipedia.org/wiki/Unsharp_masking) **\n",
    "\n",
    "![2.4](https://raw.githubusercontent.com/LoserSun/Computer-Vision-Course-Note/master/relevant%20materials/picture/2.4.JPG)\n",
    "\n",
    "![2.5](https://raw.githubusercontent.com/LoserSun/Computer-Vision-Course-Note/master/relevant%20materials/picture/2.5.JPG)\n",
    "\n",
    "![2.6](https://raw.githubusercontent.com/LoserSun/Computer-Vision-Course-Note/master/relevant%20materials/picture/2.6.JPG)"
   ]
  },
  {
   "cell_type": "markdown",
   "metadata": {},
   "source": [
    "## ** Noise and Denoising **\n",
    "\n",
    " - ** Low-pass filtering is normally thought of as\n",
    "    the elimination of signal component with high\n",
    "    spatial frequencies. **\n",
    "    \n",
    "    ![2.7](https://raw.githubusercontent.com/LoserSun/Computer-Vision-Course-Note/master/relevant%20materials/picture/2.7.JPG)\n",
    "    \n",
    " ###  ** Noise **\n",
    " \n",
    " \n",
    "  - ** Iobserved = Ioriginal + n additive **\n",
    "  - ** Iobserved = Ioriginal*n multiplicative **\n",
    "  - ** Light/brightness variations, camera **\n",
    "    - ** hardware/lenses, surface reflectance **\n",
    "  - ** Random in nature, occurring with some \n",
    "    probability **\n",
    "  - ** It has a distribution (Gaussian (white), Poisson,..) **\n",
    "  \n",
    "   ![2.8](https://raw.githubusercontent.com/LoserSun/Computer-Vision-Course-Note/master/relevant%20materials/picture/2.8.JPG)\n",
    "   \n",
    " ### ** Why Gaussian Assumption? **\n",
    "\n",
    "- ** Most common natural model **\n",
    "- ** Smooth function, it has infinite number of derivatives **\n",
    "- ** It is Symmetric **\n",
    "- ** Fourier Transform of Gaussian is Gaussian. **\n",
    "- ** Convolution of a Gaussian with itself is a Gaussian. **\n",
    "- ** Gaussian is separable; 2D convolution can be\n",
    "  performed by two 1-D convolutions. **\n",
    "- ** There are cells in eye that perform Gaussian filtering. **\n",
    "   \n",
    "  "
   ]
  }
 ],
 "metadata": {
  "anaconda-cloud": {},
  "kernelspec": {
   "display_name": "Python [conda root]",
   "language": "python",
   "name": "conda-root-py"
  },
  "language_info": {
   "codemirror_mode": {
    "name": "ipython",
    "version": 3
   },
   "file_extension": ".py",
   "mimetype": "text/x-python",
   "name": "python",
   "nbconvert_exporter": "python",
   "pygments_lexer": "ipython3",
   "version": "3.5.2"
  },
  "latex_envs": {
   "LaTeX_envs_menu_present": true,
   "bibliofile": "biblio.bib",
   "cite_by": "apalike",
   "current_citInitial": 1,
   "eqLabelWithNumbers": true,
   "eqNumInitial": 1,
   "hotkeys": {
    "equation": "Ctrl-E",
    "itemize": "Ctrl-I"
   },
   "labels_anchors": false,
   "latex_user_defs": false,
   "report_style_numbering": false,
   "user_envs_cfg": false
  },
  "toc": {
   "colors": {
    "hover_highlight": "#DAA520",
    "running_highlight": "#FF0000",
    "selected_highlight": "#FFD700"
   },
   "moveMenuLeft": true,
   "nav_menu": {
    "height": "154px",
    "width": "252px"
   },
   "navigate_menu": true,
   "number_sections": true,
   "sideBar": true,
   "threshold": 4,
   "toc_cell": false,
   "toc_section_display": "block",
   "toc_window_display": false
  }
 },
 "nbformat": 4,
 "nbformat_minor": 1
}
