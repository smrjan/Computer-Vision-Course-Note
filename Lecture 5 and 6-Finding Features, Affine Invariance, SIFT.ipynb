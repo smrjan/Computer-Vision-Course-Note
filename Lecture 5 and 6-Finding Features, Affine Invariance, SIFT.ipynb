{
 "cells": [
  {
   "cell_type": "markdown",
   "metadata": {},
   "source": [
    "# Lecture 5 and 6-Finding Features, Affine Invariance, SIFT"
   ]
  },
  {
   "cell_type": "markdown",
   "metadata": {},
   "source": [
    "## Outline\n",
    "\n",
    " - ** Concept of Scale **\n",
    "  - ** Pyramids **\n",
    "  - ** Scale-space approaches briefly **\n",
    " - ** Scale invariant region selection **\n",
    " - ** SIFT: an image region descriptor **"
   ]
  },
  {
   "cell_type": "markdown",
   "metadata": {},
   "source": [
    "## Multi-Scale Representation: Pyramid\n",
    "\n",
    "![5.1](https://raw.githubusercontent.com/LoserSun/Computer-Vision-Course-Note/master/relevant%20materials/picture/5.1.JPG)\n",
    "\n",
    "![5.2](https://raw.githubusercontent.com/LoserSun/Computer-Vision-Course-Note/master/relevant%20materials/picture/5.2.JPG)\n",
    "\n",
    "![5.3](https://raw.githubusercontent.com/LoserSun/Computer-Vision-Course-Note/master/relevant%20materials/picture/5.3.JPG)\n"
   ]
  },
  {
   "cell_type": "markdown",
   "metadata": {},
   "source": [
    "## Laplacian Pyramids\n",
    "\n",
    "![5.4](https://raw.githubusercontent.com/LoserSun/Computer-Vision-Course-Note/master/relevant%20materials/picture/5.4.JPG)\n",
    "\n",
    "![5.5](https://raw.githubusercontent.com/LoserSun/Computer-Vision-Course-Note/master/relevant%20materials/picture/5.5.JPG)\n",
    "\n",
    "![5.6](https://raw.githubusercontent.com/LoserSun/Computer-Vision-Course-Note/master/relevant%20materials/picture/5.6.JPG)"
   ]
  },
  {
   "cell_type": "markdown",
   "metadata": {},
   "source": [
    "## Difference of Gaussian (DoG)\n",
    "\n",
    "![5.7](https://raw.githubusercontent.com/LoserSun/Computer-Vision-Course-Note/master/relevant%20materials/picture/5.7.JPG)\n"
   ]
  },
  {
   "cell_type": "markdown",
   "metadata": {},
   "source": [
    "## Scale Invariant Feature Transform (SIFT)\n",
    "\n",
    "![5.8](https://raw.githubusercontent.com/LoserSun/Computer-Vision-Course-Note/master/relevant%20materials/picture/5.8.JPG)\n",
    "\n",
    "![5.9](https://raw.githubusercontent.com/LoserSun/Computer-Vision-Course-Note/master/relevant%20materials/picture/5.9.JPG)\n",
    "\n",
    "![5.10](https://raw.githubusercontent.com/LoserSun/Computer-Vision-Course-Note/master/relevant%20materials/picture/5.10.JPG)\n",
    "\n",
    "![5.11](https://raw.githubusercontent.com/LoserSun/Computer-Vision-Course-Note/master/relevant%20materials/picture/5.11.JPG)\n",
    "\n",
    "### SIFT Descriptor\n",
    "\n",
    "![5.12](https://raw.githubusercontent.com/LoserSun/Computer-Vision-Course-Note/master/relevant%20materials/picture/5.12.JPG)\n",
    "\n",
    "![5.13](https://raw.githubusercontent.com/LoserSun/Computer-Vision-Course-Note/master/relevant%20materials/picture/5.13.JPG)\n",
    "\n",
    "![5.14](https://raw.githubusercontent.com/LoserSun/Computer-Vision-Course-Note/master/relevant%20materials/picture/5.14.JPG)\n",
    "\n",
    "### Properties of SIFT\n",
    "\n",
    "![5.15](https://raw.githubusercontent.com/LoserSun/Computer-Vision-Course-Note/master/relevant%20materials/picture/5.15.JPG)\n"
   ]
  },
  {
   "cell_type": "markdown",
   "metadata": {},
   "source": [
    "## Revisit SIFT Steps\n",
    "\n",
    "![5.16](https://raw.githubusercontent.com/LoserSun/Computer-Vision-Course-Note/master/relevant%20materials/picture/5.16.JPG)\n",
    "\n",
    "### Scale-Space Extrema Detection\n",
    "\n",
    "![5.17](https://raw.githubusercontent.com/LoserSun/Computer-Vision-Course-Note/master/relevant%20materials/picture/5.17.JPG)\n",
    "\n",
    "![5.18](https://raw.githubusercontent.com/LoserSun/Computer-Vision-Course-Note/master/relevant%20materials/picture/5.18.JPG)\n",
    "\n",
    "![5.19](https://raw.githubusercontent.com/LoserSun/Computer-Vision-Course-Note/master/relevant%20materials/picture/5.19.JPG)\n",
    "\n",
    "![5.20](https://raw.githubusercontent.com/LoserSun/Computer-Vision-Course-Note/master/relevant%20materials/picture/5.20.JPG)\n",
    "\n",
    "![5.21](https://raw.githubusercontent.com/LoserSun/Computer-Vision-Course-Note/master/relevant%20materials/picture/5.21.JPG)\n",
    "\n",
    "### Keypoint Localization\n",
    "\n",
    "![5.22](https://raw.githubusercontent.com/LoserSun/Computer-Vision-Course-Note/master/relevant%20materials/picture/5.22.JPG)\n",
    "\n",
    "![5.23](https://raw.githubusercontent.com/LoserSun/Computer-Vision-Course-Note/master/relevant%20materials/picture/5.23.JPG)\n",
    "\n",
    "![5.24](https://raw.githubusercontent.com/LoserSun/Computer-Vision-Course-Note/master/relevant%20materials/picture/5.24.JPG)\n",
    "\n",
    "![5.25](https://raw.githubusercontent.com/LoserSun/Computer-Vision-Course-Note/master/relevant%20materials/picture/5.25.JPG)\n",
    "\n",
    "![5.26](https://raw.githubusercontent.com/LoserSun/Computer-Vision-Course-Note/master/relevant%20materials/picture/5.26.JPG)\n",
    "\n",
    "![5.27](https://raw.githubusercontent.com/LoserSun/Computer-Vision-Course-Note/master/relevant%20materials/picture/5.27.JPG)\n",
    "\n",
    "### Orientation Assignment\n",
    "\n",
    "![5.28](https://raw.githubusercontent.com/LoserSun/Computer-Vision-Course-Note/master/relevant%20materials/picture/5.28.JPG)\n",
    "\n",
    "![5.29](https://raw.githubusercontent.com/LoserSun/Computer-Vision-Course-Note/master/relevant%20materials/picture/5.29.JPG)\n",
    "\n",
    "![5.30](https://raw.githubusercontent.com/LoserSun/Computer-Vision-Course-Note/master/relevant%20materials/picture/5.30.JPG)\n",
    "\n",
    "![5.31](https://raw.githubusercontent.com/LoserSun/Computer-Vision-Course-Note/master/relevant%20materials/picture/5.31.JPG)\n",
    "\n",
    "![5.32](https://raw.githubusercontent.com/LoserSun/Computer-Vision-Course-Note/master/relevant%20materials/picture/5.32.JPG)\n",
    "\n",
    "![5.33](https://raw.githubusercontent.com/LoserSun/Computer-Vision-Course-Note/master/relevant%20materials/picture/5.33.JPG)\n",
    "\n",
    "### Keypoint Descriptor\n",
    "\n",
    "![5.34](https://raw.githubusercontent.com/LoserSun/Computer-Vision-Course-Note/master/relevant%20materials/picture/5.34.JPG)\n",
    "\n",
    "![5.35](https://raw.githubusercontent.com/LoserSun/Computer-Vision-Course-Note/master/relevant%20materials/picture/5.35.JPG)\n",
    "\n",
    "### Evaluating Results\n",
    "\n",
    "![5.36](https://raw.githubusercontent.com/LoserSun/Computer-Vision-Course-Note/master/relevant%20materials/picture/5.36.JPG)\n",
    "\n",
    "### Change of Illumination\n",
    "\n",
    "![5.37](https://raw.githubusercontent.com/LoserSun/Computer-Vision-Course-Note/master/relevant%20materials/picture/5.37.JPG)\n"
   ]
  },
  {
   "cell_type": "markdown",
   "metadata": {},
   "source": [
    "## Object Recognition (SIFT)\n",
    "\n",
    "![5.38](https://raw.githubusercontent.com/LoserSun/Computer-Vision-Course-Note/master/relevant%20materials/picture/5.38.JPG)"
   ]
  }
 ],
 "metadata": {
  "anaconda-cloud": {},
  "kernelspec": {
   "display_name": "Python [conda root]",
   "language": "python",
   "name": "conda-root-py"
  },
  "language_info": {
   "codemirror_mode": {
    "name": "ipython",
    "version": 3
   },
   "file_extension": ".py",
   "mimetype": "text/x-python",
   "name": "python",
   "nbconvert_exporter": "python",
   "pygments_lexer": "ipython3",
   "version": "3.5.2"
  },
  "latex_envs": {
   "LaTeX_envs_menu_present": true,
   "bibliofile": "biblio.bib",
   "cite_by": "apalike",
   "current_citInitial": 1,
   "eqLabelWithNumbers": true,
   "eqNumInitial": 1,
   "hotkeys": {
    "equation": "Ctrl-E",
    "itemize": "Ctrl-I"
   },
   "labels_anchors": false,
   "latex_user_defs": false,
   "report_style_numbering": false,
   "user_envs_cfg": false
  },
  "toc": {
   "colors": {
    "hover_highlight": "#DAA520",
    "running_highlight": "#FF0000",
    "selected_highlight": "#FFD700"
   },
   "moveMenuLeft": true,
   "nav_menu": {
    "height": "43px",
    "width": "252px"
   },
   "navigate_menu": true,
   "number_sections": true,
   "sideBar": true,
   "threshold": 4,
   "toc_cell": false,
   "toc_section_display": "block",
   "toc_window_display": false
  }
 },
 "nbformat": 4,
 "nbformat_minor": 1
}
